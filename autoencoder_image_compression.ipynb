{
 "cells": [
  {
   "cell_type": "code",
   "execution_count": 1,
   "metadata": {},
   "outputs": [
    {
     "name": "stderr",
     "output_type": "stream",
     "text": [
      "Using TensorFlow backend.\n"
     ]
    }
   ],
   "source": [
    "import matplotlib\n",
    "matplotlib.use(\"TkAgg\")\n",
    "from keras.datasets import mnist\n",
    "from keras.models import Sequential\n",
    "from keras.layers import Dense\n",
    "from matplotlib import pyplot as plt\n",
    "import random\n",
    "\n",
    "def create_basic_autoencoder(hidden_layer_size):\n",
    "    model = Sequential() \n",
    "    model.add(Dense(units=hidden_layer_size, input_shape=(784,), activation='relu'))\n",
    "    model.add(Dense(units=784, activation='sigmoid'))\n",
    "    return model\n",
    "\n",
    "if __name__ == '__main__':\n",
    "    # Import MNIST dataset\n",
    "    training_set, testing_set = mnist.load_data()\n",
    "    X_train, y_train = training_set\n",
    "    X_test, y_test = testing_set\n",
    "\n",
    "    # Reshape the dataset for our neural network\n",
    "    X_train_reshaped = X_train.reshape((X_train.shape[0], X_train.shape[1]*X_train.shape[2]))\n",
    "    X_test_reshaped = X_test.reshape((X_test.shape[0], X_test.shape[1]*X_test.shape[2]))\n",
    "\n",
    "    # Normalize range of values between 0 to 1 (from 0 to 255)\n",
    "    X_train_reshaped = X_train_reshaped/255.\n",
    "    X_test_reshaped = X_test_reshaped/255.\n",
    "\n",
    "    # Create autoencoders of different hidden layer size\n",
    "    hiddenLayerSize_1_model = create_basic_autoencoder(hidden_layer_size=1)\n",
    "    hiddenLayerSize_2_model = create_basic_autoencoder(hidden_layer_size=2)\n",
    "    hiddenLayerSize_4_model = create_basic_autoencoder(hidden_layer_size=4)\n",
    "    hiddenLayerSize_8_model = create_basic_autoencoder(hidden_layer_size=8)\n",
    "    hiddenLayerSize_16_model = create_basic_autoencoder(hidden_layer_size=16)\n",
    "    hiddenLayerSize_32_model = create_basic_autoencoder(hidden_layer_size=32)\n",
    "\n",
    "    # Train each autoencoder\n",
    "    hiddenLayerSize_1_model.compile(optimizer='adam', loss='mean_squared_error')\n",
    "    hiddenLayerSize_1_model.fit(X_train_reshaped, X_train_reshaped, epochs=10, verbose=0)\n",
    "\n",
    "    hiddenLayerSize_2_model.compile(optimizer='adam', loss='mean_squared_error')\n",
    "    hiddenLayerSize_2_model.fit(X_train_reshaped, X_train_reshaped, epochs=10, verbose=0)\n",
    "\n",
    "    hiddenLayerSize_4_model.compile(optimizer='adam', loss='mean_squared_error')\n",
    "    hiddenLayerSize_4_model.fit(X_train_reshaped, X_train_reshaped, epochs=10, verbose=0)\n",
    "\n",
    "    hiddenLayerSize_8_model.compile(optimizer='adam', loss='mean_squared_error')\n",
    "    hiddenLayerSize_8_model.fit(X_train_reshaped, X_train_reshaped, epochs=10, verbose=0)\n",
    "\n",
    "    hiddenLayerSize_16_model.compile(optimizer='adam', loss='mean_squared_error')\n",
    "    hiddenLayerSize_16_model.fit(X_train_reshaped, X_train_reshaped, epochs=10, verbose=0)\n",
    "\n",
    "    hiddenLayerSize_32_model.compile(optimizer='adam', loss='mean_squared_error')\n",
    "    hiddenLayerSize_32_model.fit(X_train_reshaped, X_train_reshaped, epochs=10, verbose=0)\n",
    "\n",
    "    # Use the trained models to make prediction on the testign set\n",
    "    output_1_model = hiddenLayerSize_2_model.predict(X_test_reshaped)\n",
    "    output_2_model = hiddenLayerSize_2_model.predict(X_test_reshaped)\n",
    "    output_4_model = hiddenLayerSize_4_model.predict(X_test_reshaped)\n",
    "    output_8_model = hiddenLayerSize_8_model.predict(X_test_reshaped)\n",
    "    output_16_model = hiddenLayerSize_16_model.predict(X_test_reshaped)\n",
    "    output_32_model = hiddenLayerSize_32_model.predict(X_test_reshaped)\n",
    "\n",
    "    # Plot the output from each model to compare the results\n",
    "    fig, axes = plt.subplots(7, 5, figsize=(15,15))\n",
    "\n",
    "    randomly_selected_imgs = random.sample(range(output_2_model.shape[0]),5)\n",
    "    outputs = [X_test, output_1_model, output_2_model, output_4_model, output_8_model, output_16_model, output_32_model]\n",
    "\n",
    "    # Iterate through each subplot and plot accordingly\n",
    "    for row_num, row in enumerate(axes):\n",
    "        for col_num, ax in enumerate(row):\n",
    "            ax.imshow(outputs[row_num][randomly_selected_imgs[col_num]].reshape(28,28), cmap='gray')\n",
    "            ax.grid(False)\n",
    "            ax.set_xticks([])\n",
    "            ax.set_yticks([])\n",
    "\n",
    "    plt.show()"
   ]
  }
 ],
 "metadata": {
  "kernelspec": {
   "display_name": "Python 3",
   "language": "python",
   "name": "python3"
  },
  "language_info": {
   "codemirror_mode": {
    "name": "ipython",
    "version": 3
   },
   "file_extension": ".py",
   "mimetype": "text/x-python",
   "name": "python",
   "nbconvert_exporter": "python",
   "pygments_lexer": "ipython3",
   "version": "3.7.3"
  }
 },
 "nbformat": 4,
 "nbformat_minor": 2
}
