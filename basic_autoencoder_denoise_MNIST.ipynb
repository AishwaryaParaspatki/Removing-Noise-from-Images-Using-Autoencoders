{
 "cells": [
  {
   "cell_type": "code",
   "execution_count": 1,
   "metadata": {},
   "outputs": [
    {
     "name": "stderr",
     "output_type": "stream",
     "text": [
      "Using TensorFlow backend.\n"
     ]
    },
    {
     "name": "stdout",
     "output_type": "stream",
     "text": [
      "Epoch 1/10\n",
      "60000/60000 [==============================] - 3s 43us/step - loss: 0.0476\n",
      "Epoch 2/10\n",
      "60000/60000 [==============================] - 3s 51us/step - loss: 0.0321\n",
      "Epoch 3/10\n",
      "60000/60000 [==============================] - 3s 55us/step - loss: 0.0311\n",
      "Epoch 4/10\n",
      "60000/60000 [==============================] - 5s 84us/step - loss: 0.0309\n",
      "Epoch 5/10\n",
      "60000/60000 [==============================] - 3s 51us/step - loss: 0.0301\n",
      "Epoch 6/10\n",
      "60000/60000 [==============================] - 3s 54us/step - loss: 0.0296\n",
      "Epoch 7/10\n",
      "60000/60000 [==============================] - 3s 53us/step - loss: 0.0295\n",
      "Epoch 8/10\n",
      "60000/60000 [==============================] - 3s 50us/step - loss: 0.0293\n",
      "Epoch 9/10\n",
      "60000/60000 [==============================] - 3s 52us/step - loss: 0.0292\n",
      "Epoch 10/10\n",
      "60000/60000 [==============================] - 3s 53us/step - loss: 0.0291\n"
     ]
    }
   ],
   "source": [
    "import matplotlib\n",
    "matplotlib.use(\"TkAgg\")\n",
    "from keras.datasets import mnist\n",
    "from keras.models import Sequential\n",
    "from keras.layers import Dense\n",
    "from matplotlib import pyplot as plt\n",
    "import numpy as np\n",
    "import random\n",
    "\n",
    "def create_basic_autoencoder(hidden_layer_size):\n",
    "    model = Sequential() \n",
    "    model.add(Dense(units=hidden_layer_size, input_shape=(784,), activation='relu'))\n",
    "    model.add(Dense(units=784, activation='sigmoid'))\n",
    "    return model\n",
    "\n",
    "if __name__ == '__main__':\n",
    "    # Import MNIST dataset\n",
    "    training_set, testing_set = mnist.load_data()\n",
    "    X_train, y_train = training_set\n",
    "    X_test, y_test = testing_set\n",
    "\n",
    "    # Reshape the dataset for our neural network\n",
    "    X_train_reshaped = X_train.reshape((X_train.shape[0], X_train.shape[1]*X_train.shape[2]))\n",
    "    X_test_reshaped = X_test.reshape((X_test.shape[0], X_test.shape[1]*X_test.shape[2]))\n",
    "\n",
    "    # Normalize range of values between 0 to 1 (from 0 to 255)\n",
    "    X_train_reshaped = X_train_reshaped/255.\n",
    "    X_test_reshaped = X_test_reshaped/255.\n",
    "\n",
    "    # Add noise to the MNIST dataset\n",
    "    X_train_noised = X_train_reshaped + np.random.normal(0, 0.5, size=X_train_reshaped.shape) \n",
    "    X_test_noised = X_test_reshaped + np.random.normal(0, 0.5, size=X_test_reshaped.shape)\n",
    "    X_train_noised = np.clip(X_train_noised, a_min=0, a_max=1)\n",
    "    X_test_noised = np.clip(X_test_noised, a_min=0, a_max=1)\n",
    "\n",
    "    # Model Building and Training\n",
    "    basic_denoise_autoencoder = create_basic_autoencoder(hidden_layer_size=16)\n",
    "    basic_denoise_autoencoder.compile(optimizer='adam', loss='mean_squared_error')\n",
    "    basic_denoise_autoencoder.fit(X_train_noised, X_train_reshaped, epochs=10)\n",
    "\n",
    "    output = basic_denoise_autoencoder.predict(X_test_noised)\n",
    "\n",
    "    # Plot output\n",
    "    fig, ((ax1, ax2, ax3, ax4, ax5), (ax6, ax7, ax8, ax9, ax10), (ax11,ax12,ax13,ax14,ax15)) = plt.subplots(3, 5)\n",
    "    randomly_selected_imgs = random.sample(range(output.shape[0]),5)\n",
    "\n",
    "    # 1st row for original images\n",
    "    for i, ax in enumerate([ax1,ax2,ax3,ax4,ax5]):\n",
    "        ax.imshow(X_test_reshaped[randomly_selected_imgs[i]].reshape(28,28), cmap='gray')\n",
    "    if i == 0:\n",
    "        ax.set_ylabel(\"Original \\n Images\")\n",
    "    ax.grid(False)\n",
    "    ax.set_xticks([])\n",
    "    ax.set_yticks([])\n",
    "\n",
    "    # 2nd row for input with noise added\n",
    "    for i, ax in enumerate([ax6,ax7,ax8,ax9,ax10]):\n",
    "        ax.imshow(X_test_noised[randomly_selected_imgs[i]].reshape(28,28), cmap='gray')\n",
    "    if i == 0:\n",
    "        ax.set_ylabel(\"Input With \\n Noise Added\")\n",
    "    ax.grid(False)\n",
    "    ax.set_xticks([])\n",
    "    ax.set_yticks([])\n",
    "\n",
    "    # 3rd row for output images from our autoencoder\n",
    "    for i, ax in enumerate([ax11,ax12,ax13,ax14,ax15]):\n",
    "        ax.imshow(output[randomly_selected_imgs[i]].reshape(28,28), cmap='gray')\n",
    "    if i == 0:\n",
    "        ax.set_ylabel(\"Denoised \\n Output\")\n",
    "    ax.grid(False)\n",
    "    ax.set_xticks([])\n",
    "    ax.set_yticks([])\n",
    "\n",
    "    plt.show()"
   ]
  },
  {
   "cell_type": "code",
   "execution_count": null,
   "metadata": {},
   "outputs": [],
   "source": []
  }
 ],
 "metadata": {
  "kernelspec": {
   "display_name": "Python 3",
   "language": "python",
   "name": "python3"
  },
  "language_info": {
   "codemirror_mode": {
    "name": "ipython",
    "version": 3
   },
   "file_extension": ".py",
   "mimetype": "text/x-python",
   "name": "python",
   "nbconvert_exporter": "python",
   "pygments_lexer": "ipython3",
   "version": "3.7.3"
  }
 },
 "nbformat": 4,
 "nbformat_minor": 2
}
